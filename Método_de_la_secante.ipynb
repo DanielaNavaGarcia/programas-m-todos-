{
  "nbformat": 4,
  "nbformat_minor": 0,
  "metadata": {
    "colab": {
      "provenance": [],
      "authorship_tag": "ABX9TyORB8KA+83C0hd52zyYJSxj",
      "include_colab_link": true
    },
    "kernelspec": {
      "name": "python3",
      "display_name": "Python 3"
    },
    "language_info": {
      "name": "python"
    }
  },
  "cells": [
    {
      "cell_type": "markdown",
      "metadata": {
        "id": "view-in-github",
        "colab_type": "text"
      },
      "source": [
        "<a href=\"https://colab.research.google.com/github/DanielaNavaGarcia/programas-m-todos-/blob/main/M%C3%A9todo_de_la_secante.ipynb\" target=\"_parent\"><img src=\"https://colab.research.google.com/assets/colab-badge.svg\" alt=\"Open In Colab\"/></a>"
      ]
    },
    {
      "cell_type": "code",
      "execution_count": 12,
      "metadata": {
        "colab": {
          "base_uri": "https://localhost:8080/"
        },
        "id": "6DsNIr-XeRiX",
        "outputId": "cdcd26f4-4ebf-44c2-ff1b-a85776c05d7d"
      },
      "outputs": [
        {
          "output_type": "stream",
          "name": "stdout",
          "text": [
            "Método de la secante\n",
            "Introduce el valor de inicio x1: 0\n",
            "Introduce el valor de inicio x0: -10\n",
            "Introduce el error 0\n",
            "(:^10)(:^10)(:^10)(:^10)(:^10)\n",
            "(:^10)(:^10.6f)(:^10.6f)(:^10.6f)(:^10.6f)\n",
            "La raiz es: -0.3076923076923077\n",
            "(:^10)(:^10.6f)(:^10.6f)(:^10.6f)(:^10.6f)\n",
            "La raiz es: -1.2093023255813957\n",
            "(:^10)(:^10.6f)(:^10.6f)(:^10.6f)(:^10.6f)\n",
            "La raiz es: -0.9679207920792079\n",
            "(:^10)(:^10.6f)(:^10.6f)(:^10.6f)(:^10.6f)\n",
            "La raiz es: -0.9987031169667524\n",
            "(:^10)(:^10.6f)(:^10.6f)(:^10.6f)(:^10.6f)\n",
            "La raiz es: -1.000008376511134\n",
            "(:^10)(:^10.6f)(:^10.6f)(:^10.6f)(:^10.6f)\n",
            "La raiz es: -0.999999997826769\n",
            "(:^10)(:^10.6f)(:^10.6f)(:^10.6f)(:^10.6f)\n",
            "La raiz es: -0.9999999999999963\n",
            "(:^10)(:^10.6f)(:^10.6f)(:^10.6f)(:^10.6f)\n",
            "La raiz es: -1.0\n",
            "(:^10)(:^10.6f)(:^10.6f)(:^10.6f)(:^10.6f)\n",
            "La raiz es: -1.0\n"
          ]
        }
      ],
      "source": [
        "def f(x):\n",
        "    y=pow(x,2)-3.0*x-4\n",
        "    return (y)\n",
        "print (\"Método de la secante\")\n",
        "x1=float(input('Introduce el valor de inicio x1: '))\n",
        "x0=float(input('Introduce el valor de inicio x0: '))\n",
        "erroru=float(input('Introduce el error '))\n",
        "x2=0\n",
        "i=0\n",
        "error=100\n",
        "print(\"(:^10)(:^10)(:^10)(:^10)(:^10)\".format(\"i\", \"xi\", \"f(xi)\", \"x+1\", \"error\"))\n",
        "while (error) >erroru :\n",
        "    xra=x2\n",
        "    x2=x1-(f(x1)*(x1-x0))/(f(x1)-f(x0))\n",
        "    error= abs(((x2-xra)/x2)*100)\n",
        "    x0 = x1 \n",
        "    x1=x2 \n",
        "    i=i+1\n",
        "    print(\"(:^10)(:^10.6f)(:^10.6f)(:^10.6f)(:^10.6f)\".format(i, float(x0),float(f(x0)), float(x2), float(error)))\n",
        "    print(\"La raiz es:\", x2)\n",
        "\n",
        "\n",
        "\n",
        "\n",
        "\n",
        "\n"
      ]
    }
  ]
}