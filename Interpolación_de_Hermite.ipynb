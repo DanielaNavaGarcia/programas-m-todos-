{
  "nbformat": 4,
  "nbformat_minor": 0,
  "metadata": {
    "colab": {
      "provenance": [],
      "authorship_tag": "ABX9TyN3w3tvUWvDK26L4hox2W4a",
      "include_colab_link": true
    },
    "kernelspec": {
      "name": "python3",
      "display_name": "Python 3"
    },
    "language_info": {
      "name": "python"
    }
  },
  "cells": [
    {
      "cell_type": "markdown",
      "metadata": {
        "id": "view-in-github",
        "colab_type": "text"
      },
      "source": [
        "<a href=\"https://colab.research.google.com/github/DanielaNavaGarcia/programas-m-todos-/blob/main/Interpolaci%C3%B3n_de_Hermite.ipynb\" target=\"_parent\"><img src=\"https://colab.research.google.com/assets/colab-badge.svg\" alt=\"Open In Colab\"/></a>"
      ]
    },
    {
      "cell_type": "markdown",
      "source": [
        "en estas entradas encontramos las funciones de interpolacion de Hermite para el dominio [-1,1]. Luego,las usamos para una interpolación a trozos."
      ],
      "metadata": {
        "id": "hCfYx01twCtS"
      }
    },
    {
      "cell_type": "code",
      "source": [
        "from __future__ import division\n",
        "import numpy as np\n",
        "import sympy as sym\n",
        "import matplotlib.pyplot as plt"
      ],
      "metadata": {
        "id": "WHJne_o8yFT8"
      },
      "execution_count": 30,
      "outputs": []
    },
    {
      "cell_type": "markdown",
      "source": [
        "Se requiere encontrar una base con funciones que satisfagan:\n",
        "N1(x1)=1\n",
        "N1(x2)=0\n",
        "N2(x1)=1\n",
        "N2(x2)=0\n",
        "N'3(x1)=1\n",
        "N'3(x2)=0\n",
        "N'4(x1)=1\n",
        "N'4(x2)=0"
      ],
      "metadata": {
        "id": "R4qIdFl0yJ6a"
      }
    },
    {
      "cell_type": "code",
      "source": [
        "x1, x2, x = sym.symbols(\"x1 x2 x\")\n",
        "V = sym.Matrix([\n",
        "    [1, x1, x1**2, x1**3],\n",
        "    [1, x2, x2**2, x2**3],\n",
        "    [0, 1, 2*x1, 3*x1**2],\n",
        "    [0, 1, 2*x2, 3*x2**2]])\n",
        "V"
      ],
      "metadata": {
        "colab": {
          "base_uri": "https://localhost:8080/",
          "height": 99
        },
        "id": "lnLiJdtm0Tyu",
        "outputId": "2ce01b55-c914-49ff-9b3d-de6125e17cce"
      },
      "execution_count": 31,
      "outputs": [
        {
          "output_type": "execute_result",
          "data": {
            "text/plain": [
              "Matrix([\n",
              "[1, x1, x1**2,   x1**3],\n",
              "[1, x2, x2**2,   x2**3],\n",
              "[0,  1,  2*x1, 3*x1**2],\n",
              "[0,  1,  2*x2, 3*x2**2]])"
            ],
            "text/latex": "$\\displaystyle \\left[\\begin{matrix}1 & x_{1} & x_{1}^{2} & x_{1}^{3}\\\\1 & x_{2} & x_{2}^{2} & x_{2}^{3}\\\\0 & 1 & 2 x_{1} & 3 x_{1}^{2}\\\\0 & 1 & 2 x_{2} & 3 x_{2}^{2}\\end{matrix}\\right]$"
          },
          "metadata": {},
          "execution_count": 31
        }
      ]
    },
    {
      "cell_type": "code",
      "source": [
        "sym.simplify(V.inv())"
      ],
      "metadata": {
        "colab": {
          "base_uri": "https://localhost:8080/",
          "height": 125
        },
        "id": "beAqAvC50V8I",
        "outputId": "8700f83f-2a04-425c-82b0-c204b325e382"
      },
      "execution_count": 32,
      "outputs": [
        {
          "output_type": "execute_result",
          "data": {
            "text/plain": [
              "Matrix([\n",
              "[x2**2*(3*x1 - x2)/(x1**3 - 3*x1**2*x2 + 3*x1*x2**2 - x2**3), x1**2*(x1 - 3*x2)/(x1**3 - 3*x1**2*x2 + 3*x1*x2**2 - x2**3),      -x1*x2**2/(x1**2 - 2*x1*x2 + x2**2),      -x1**2*x2/(x1**2 - 2*x1*x2 + x2**2)],\n",
              "[         -6*x1*x2/(x1**3 - 3*x1**2*x2 + 3*x1*x2**2 - x2**3),           6*x1*x2/(x1**3 - 3*x1**2*x2 + 3*x1*x2**2 - x2**3), x2*(2*x1 + x2)/(x1**2 - 2*x1*x2 + x2**2), x1*(x1 + 2*x2)/(x1**2 - 2*x1*x2 + x2**2)],\n",
              "[      3*(x1 + x2)/(x1**3 - 3*x1**2*x2 + 3*x1*x2**2 - x2**3),      3*(-x1 - x2)/(x1**3 - 3*x1**2*x2 + 3*x1*x2**2 - x2**3),   (-x1 - 2*x2)/(x1**2 - 2*x1*x2 + x2**2),   (-2*x1 - x2)/(x1**2 - 2*x1*x2 + x2**2)],\n",
              "[               -2/(x1**3 - 3*x1**2*x2 + 3*x1*x2**2 - x2**3),                 2/(x1**3 - 3*x1**2*x2 + 3*x1*x2**2 - x2**3),              1/(x1**2 - 2*x1*x2 + x2**2),              1/(x1**2 - 2*x1*x2 + x2**2)]])"
            ],
            "text/latex": "$\\displaystyle \\left[\\begin{matrix}\\frac{x_{2}^{2} \\cdot \\left(3 x_{1} - x_{2}\\right)}{x_{1}^{3} - 3 x_{1}^{2} x_{2} + 3 x_{1} x_{2}^{2} - x_{2}^{3}} & \\frac{x_{1}^{2} \\left(x_{1} - 3 x_{2}\\right)}{x_{1}^{3} - 3 x_{1}^{2} x_{2} + 3 x_{1} x_{2}^{2} - x_{2}^{3}} & - \\frac{x_{1} x_{2}^{2}}{x_{1}^{2} - 2 x_{1} x_{2} + x_{2}^{2}} & - \\frac{x_{1}^{2} x_{2}}{x_{1}^{2} - 2 x_{1} x_{2} + x_{2}^{2}}\\\\- \\frac{6 x_{1} x_{2}}{x_{1}^{3} - 3 x_{1}^{2} x_{2} + 3 x_{1} x_{2}^{2} - x_{2}^{3}} & \\frac{6 x_{1} x_{2}}{x_{1}^{3} - 3 x_{1}^{2} x_{2} + 3 x_{1} x_{2}^{2} - x_{2}^{3}} & \\frac{x_{2} \\cdot \\left(2 x_{1} + x_{2}\\right)}{x_{1}^{2} - 2 x_{1} x_{2} + x_{2}^{2}} & \\frac{x_{1} \\left(x_{1} + 2 x_{2}\\right)}{x_{1}^{2} - 2 x_{1} x_{2} + x_{2}^{2}}\\\\\\frac{3 \\left(x_{1} + x_{2}\\right)}{x_{1}^{3} - 3 x_{1}^{2} x_{2} + 3 x_{1} x_{2}^{2} - x_{2}^{3}} & \\frac{3 \\left(- x_{1} - x_{2}\\right)}{x_{1}^{3} - 3 x_{1}^{2} x_{2} + 3 x_{1} x_{2}^{2} - x_{2}^{3}} & \\frac{- x_{1} - 2 x_{2}}{x_{1}^{2} - 2 x_{1} x_{2} + x_{2}^{2}} & \\frac{- 2 x_{1} - x_{2}}{x_{1}^{2} - 2 x_{1} x_{2} + x_{2}^{2}}\\\\- \\frac{2}{x_{1}^{3} - 3 x_{1}^{2} x_{2} + 3 x_{1} x_{2}^{2} - x_{2}^{3}} & \\frac{2}{x_{1}^{3} - 3 x_{1}^{2} x_{2} + 3 x_{1} x_{2}^{2} - x_{2}^{3}} & \\frac{1}{x_{1}^{2} - 2 x_{1} x_{2} + x_{2}^{2}} & \\frac{1}{x_{1}^{2} - 2 x_{1} x_{2} + x_{2}^{2}}\\end{matrix}\\right]$"
          },
          "metadata": {},
          "execution_count": 32
        }
      ]
    },
    {
      "cell_type": "code",
      "source": [
        "V_inv = sym.simplify(V.subs({x1:-1, x2:1}).inv())\n",
        "V_inv"
      ],
      "metadata": {
        "colab": {
          "base_uri": "https://localhost:8080/",
          "height": 99
        },
        "id": "zZFSjZ-Z0ZFW",
        "outputId": "c3eaa2f5-081a-4ecb-8ac3-63b6f816a118"
      },
      "execution_count": 33,
      "outputs": [
        {
          "output_type": "execute_result",
          "data": {
            "text/plain": [
              "Matrix([\n",
              "[ 1/2,  1/2,  1/4, -1/4],\n",
              "[-3/4,  3/4, -1/4, -1/4],\n",
              "[   0,    0, -1/4,  1/4],\n",
              "[ 1/4, -1/4,  1/4,  1/4]])"
            ],
            "text/latex": "$\\displaystyle \\left[\\begin{matrix}\\frac{1}{2} & \\frac{1}{2} & \\frac{1}{4} & - \\frac{1}{4}\\\\- \\frac{3}{4} & \\frac{3}{4} & - \\frac{1}{4} & - \\frac{1}{4}\\\\0 & 0 & - \\frac{1}{4} & \\frac{1}{4}\\\\\\frac{1}{4} & - \\frac{1}{4} & \\frac{1}{4} & \\frac{1}{4}\\end{matrix}\\right]$"
          },
          "metadata": {},
          "execution_count": 33
        }
      ]
    },
    {
      "cell_type": "code",
      "source": [
        "sym.factor(V_inv.T * sym.Matrix([1, x, x**2, x**3]))"
      ],
      "metadata": {
        "colab": {
          "base_uri": "https://localhost:8080/",
          "height": 111
        },
        "id": "wJBbfe8G0fTr",
        "outputId": "73ea2cc6-a560-418a-af67-9a9b26288f4c"
      },
      "execution_count": 34,
      "outputs": [
        {
          "output_type": "execute_result",
          "data": {
            "text/plain": [
              "Matrix([\n",
              "[       x**3/4 - 3*x/4 + 1/2],\n",
              "[      -x**3/4 + 3*x/4 + 1/2],\n",
              "[x**3/4 - x**2/4 - x/4 + 1/4],\n",
              "[x**3/4 + x**2/4 - x/4 - 1/4]])"
            ],
            "text/latex": "$\\displaystyle \\left[\\begin{matrix}\\frac{x^{3}}{4} - \\frac{3 x}{4} + \\frac{1}{2}\\\\- \\frac{x^{3}}{4} + \\frac{3 x}{4} + \\frac{1}{2}\\\\\\frac{x^{3}}{4} - \\frac{x^{2}}{4} - \\frac{x}{4} + \\frac{1}{4}\\\\\\frac{x^{3}}{4} + \\frac{x^{2}}{4} - \\frac{x}{4} - \\frac{1}{4}\\end{matrix}\\right]$"
          },
          "metadata": {},
          "execution_count": 34
        }
      ]
    },
    {
      "cell_type": "code",
      "source": [
        "def hermite_interp(fun, grad, x0=-1, x1=1, npts=101):\n",
        "    jaco = (x1 - x0)/2\n",
        "    x = np.linspace(-1, 1, npts)\n",
        "    f1 = fun(x0)\n",
        "    f2 = fun(x1)\n",
        "    g1 = grad(x0)\n",
        "    g2 = grad(x1)\n",
        "    N1 = 1/4*(x - 1)**2 * (2 + x)\n",
        "    N2 = 1/4*(x + 1)**2 * (2 - x)\n",
        "    N3 = 1/4*(x - 1)**2 * (x + 1)\n",
        "    N4 = 1/4*(x + 1)**2 * (x - 1)\n",
        "    interp = N1*f1 + N2*f2 + jaco*(N3*g1 + N4*g2)\n",
        "    return interp"
      ],
      "metadata": {
        "id": "_Lin8kgZ0o5U"
      },
      "execution_count": 36,
      "outputs": []
    },
    {
      "cell_type": "code",
      "source": [
        "def fun(x):\n",
        "    return np.sin(2*np.pi*x)/(2*np.pi*x)\n",
        "\n",
        "\n",
        "def grad(x):\n",
        "    return np.cos(2*np.pi*x)/x - np.sin(2*np.pi*x)/(2*np.pi*x**2)"
      ],
      "metadata": {
        "id": "G4sdExIW0rPz"
      },
      "execution_count": 26,
      "outputs": []
    },
    {
      "cell_type": "code",
      "source": [
        "a = 2\n",
        "b = 5\n",
        "nels = 7\n",
        "npts = 200\n",
        "x = np.linspace(a, b, npts)\n",
        "y = fun(x)\n",
        "plt.plot(x, y, color=\"black\")\n",
        "xi = np.linspace(a, b, num=nels, endpoint=False)\n",
        "dx = xi[1] - xi[0]\n",
        "for x0 in xi:\n",
        "    x1 = x0 + dx\n",
        "    x = np.linspace(x0, x1, npts)\n",
        "    y = hermite_interp(fun, grad, x0=x0, x1=x1, npts=npts)\n",
        "plt.plot(x, y, linestyle=\"dashed\", color=\"#4daf4a\")\n",
        "plt.plot([x[0], x[-1]], [y[0], y[-1]], marker=\"o\", color=\"#4daf4a\",\n",
        "         linewidth=0)\n",
        "plt.xlabel(\"x\")\n",
        "plt.ylabel(\"y\")\n",
        "plt.legend([\"Exact function\", \"Interpolation\"])\n",
        "plt.show()"
      ],
      "metadata": {
        "colab": {
          "base_uri": "https://localhost:8080/",
          "height": 449
        },
        "id": "iRcvTopP0970",
        "outputId": "820232cc-36aa-4500-976b-479726b7fdd3"
      },
      "execution_count": 25,
      "outputs": [
        {
          "output_type": "display_data",
          "data": {
            "text/plain": [
              "<Figure size 640x480 with 1 Axes>"
            ],
            "image/png": "[encoded data removed]"
          },
          "metadata": {}
        }
      ]
    }
  ]
}