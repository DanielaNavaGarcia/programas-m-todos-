{
  "nbformat": 4,
  "nbformat_minor": 0,
  "metadata": {
    "colab": {
      "provenance": [],
      "include_colab_link": true
    },
    "kernelspec": {
      "name": "python3",
      "display_name": "Python 3"
    },
    "language_info": {
      "name": "python"
    }
  },
  "cells": [
    {
      "cell_type": "markdown",
      "metadata": {
        "id": "view-in-github",
        "colab_type": "text"
      },
      "source": [
        "<a href=\"https://colab.research.google.com/github/DanielaNavaGarcia/programas-m-todos-/blob/main/Punto_fijo_DENG.ipynb\" target=\"_parent\"><img src=\"https://colab.research.google.com/assets/colab-badge.svg\" alt=\"Open In Colab\"/></a>"
      ]
    },
    {
      "cell_type": "code",
      "source": [
        "from math import *\n",
        "import sympy as sp\n",
        "import numpy as np\n",
        "import matplotlib.pyplot as plt\n",
        "\n",
        "def pf():\n",
        "  x=sp.symbols('x')\n",
        "  g=input('digite la funcion: ')\n",
        "  g=sp.lambdify(x,g)\n",
        "  x0=input('digite un valor inicial: ')\n",
        "  x0=float(x0)\n",
        "  n=input('digite el numero de iteraciones a realizar: ')\n",
        "  n=int(n)\n",
        "  tol=input('digite el error maximo permitido: ')\n",
        "  tol=float(tol)\n",
        "\n",
        "  for k in range(n):\n",
        "    x1=g(x0)\n",
        "    if(abs(x1-x0)<tol):\n",
        "      print(\"x\", k+1,\"=\" , x1, \"es un punto fijo\")\n",
        "      return\n",
        "      x0=x1\n",
        "      print(\"x\", k+1, \"=\", x1)\n",
        "\n",
        "pf()"
      ],
      "metadata": {
        "id": "6brWP7TqZcHh"
      },
      "execution_count": null,
      "outputs": []
    }
  ]
}