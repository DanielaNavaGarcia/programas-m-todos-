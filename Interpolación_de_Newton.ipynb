{
  "nbformat": 4,
  "nbformat_minor": 0,
  "metadata": {
    "colab": {
      "name": "Interpolación de Newton  ",
      "provenance": [],
      "include_colab_link": true
    },
    "kernelspec": {
      "name": "python3",
      "display_name": "Python 3"
    },
    "language_info": {
      "name": "python"
    }
  },
  "cells": [
    {
      "cell_type": "markdown",
      "metadata": {
        "id": "view-in-github",
        "colab_type": "text"
      },
      "source": [
        "<a href=\"https://colab.research.google.com/github/DanielaNavaGarcia/programas-m-todos-/blob/main/Interpolaci%C3%B3n_de_Newton.ipynb\" target=\"_parent\"><img src=\"https://colab.research.google.com/assets/colab-badge.svg\" alt=\"Open In Colab\"/></a>"
      ]
    },
    {
      "cell_type": "code",
      "metadata": {
        "id": "-IZq7-0U4_v-"
      },
      "source": [
        "#Importacion de librerias\n",
        "import numpy as np                \n",
        "from tabulate import tabulate\n",
        "import matplotlib.pyplot as plt"
      ],
      "execution_count": 1,
      "outputs": []
    },
    {
      "cell_type": "code",
      "metadata": {
        "id": "mNRIWTxoaJNY"
      },
      "source": [
        "#INTERPOLACION METODO DE NEWTON\n",
        "\n",
        "#Define función para la interpolación      \n",
        "def InterpolNewton(x, y, xi):\n",
        "  n = len(x)\n",
        "\n",
        "  #1) Matriz de diferencias divididas\n",
        "\n",
        "  dd = np.zeros([n, n])       #Matriz de las diferencias divididas\n",
        "  b = []                      #diagonal de la matriz de diferencias divididas\n",
        "  for i in range (n):\n",
        "    for j in range (n):\n",
        "      if j == 0:\n",
        "        dd[i, j] = y[i]       #La primera columna de la matriz corresponde a f[x]\n",
        "      elif i<j:\n",
        "        dd[i, j] = dd[i, j]   #hacer NADA\n",
        "      else:\n",
        "        dd[i, j] = (dd[i, j-1] - dd[i - 1, j-1])/(x[i] - x[i - j]) #Calculo de diferencias divididas\n",
        "\n",
        "      if i == j:\n",
        "        b.append(dd[i, j])    #Coeficiente 'b'\n",
        "\n",
        "\n",
        "  #2) Polinomio de interpolación b0 + b1(x - x0) + b2(x - x0)(x - x1) + b3(x - x0)(x - x1)(x - x2)…\n",
        "  \n",
        "  xterm = []          #Terminos del polinomio numericos (x - x_0)(x - x_1)...(x - x_n-1)\n",
        "  xterm_simbol = []   #Terminos del polinomio simbolicos (x - x_0)(x - x_1)...(x - x_n-1)\n",
        "  pol = []            #Polinomio de interpolacion numerico b0 + b1(x - x0) + b2(x - x0)(x - x1) + b3(x - x0)(x - x1)(x - x2)…\n",
        "  pol_simbol = []     #Polinomio de interpolacion simbolico b0 + b1(x - x0) + b2(x - x0)(x - x1) + b3(x - x0)(x - x1)(x - x2)…\n",
        "  Rn = []             #Residual\n",
        "  I = []              #Grado del polinomio\n",
        "  \n",
        "  for i in range(n):\n",
        "    I.append(i)\n",
        "    if i == 0:\n",
        "      xterm.append(1)\n",
        "      xterm_simbol.append('1')\n",
        "      pol.append(b[i]*xterm[i])\n",
        "      pol_simbol.append(str(b[i]))\n",
        "    else:\n",
        "      xterm.append(xterm[i-1] * (xi - x[i - 1]))\n",
        "      xterm_simbol.append(str(xterm_simbol[i-1]) + '(x - ' + str(x[i - 1]) + ')')\n",
        "      pol.append(pol[i - 1] + b[i]*xterm[i])\n",
        "      pol_simbol.append(str(pol_simbol[i-1]) + ' + ' + str(b[i]) + str(xterm_simbol[i]))\n",
        "      Rn.append(abs((pol[i] - pol[i - 1])))\n",
        "\n",
        "  Rn.append('--')\n",
        "  \n",
        "\n",
        "  #3) Tablas de resultados\n",
        "\n",
        "  table0 = []                   #Tabla interpolacion de newton\n",
        "  table1 = []                   #Tabla polinomios de interpolacion\n",
        "\n",
        "  for i in range (n):           #llena la tabla de datos\n",
        "    table0.append([I[i], x[i], y[i], b[i], xterm[i], pol[i], Rn[i]] )\n",
        "    table1.append([I[i], pol_simbol[i]])\n",
        "\n",
        "  print(\"POLINOMIOS DE INTERPOLACION DE NEWTON\")\n",
        "  print( \" \")\n",
        "  print(\"Tabla de resultados\")\n",
        "  print(tabulate(table0, headers = [\"n\", \"x\", \"y\", \"b\", \"(xh - x0 )(xh - x1) … (xh - xn-1)\", \"y interpolacion\", \"Rn\" ]))       #Imprime la tabla\n",
        "  print(\" \")\n",
        "  print(\"Polinomios de interpolacion\")\n",
        "  print(tabulate(table1, headers = [\"n\",\"f(x)\"]))\n",
        "  print(\" \")\n",
        "  print(\"Tabla de diferencias divididas\")\n",
        "  print(\"f[x], f[xi, xj], f[xi, xj, xk], f[xi, xj, xk, xl], f[xi, xj, xk, xl, xm], f[xi, xj, xk, xl, xm, xn]...\")  \n",
        "  print(\" \")\n",
        "  print(tabulate(dd))\n",
        "\n",
        "      \n",
        "  return(I, x, dd, b, xterm, pol, xterm_simbol, pol_simbol )\n"
      ],
      "execution_count": null,
      "outputs": []
    },
    {
      "cell_type": "code",
      "source": [
        "#GRAFICA DE INTERPOLACION\n",
        "xpol = np.linspace(min(x), max(x), 50)  #valores del eje x para graficar\n",
        "n = 4                                   #Grado del polinomio\n",
        "\n",
        "xterm = []                              #Terminos del polinomio numericos (x - x_0)(x - x_1)...(x - x_n-1)\n",
        "ypol = np.zeros(len(xpol))               #Polinomio de interpolacion numerico b0 + b1(x - x0) + b2(x - x0)(x - x1) + b3(x - x0)(x - x1)(x - x2)… \n",
        "for i in range(len(xpol)):\n",
        "  for j in range(n+1):\n",
        "    if j == 0:\n",
        "      xterm = 1\n",
        "      ypol[i] = b[0]\n",
        "    else:\n",
        "      xterm = xterm*(xpol[i] - x[j-1])\n",
        "      ypol[i] = ypol[i] + b[j]*xterm\n",
        "\n",
        "#ypol=-7.0 + 2.251*(xpol - -11) + -0.166666666666666661*(xpol - -11)*(xpol - -7) + 0.0184210526315789461*(xpol - -11)*(xpol - -7)*(xpol - 5) + -0.0027187534052522611*(xpol - -11)*(xpol - -7)*(xpol - 5)*(xpol - 8)\n",
        "\n",
        "#Grafica\n",
        "plt.figure(figsize=(10,6))\n",
        "plt.plot(x, y, \"o\", label = 'Datos')                #Grafica de los datos de entrada\n",
        "plt.plot(xpol, ypol, label = 'polinomio')                     #Grafica del polinomio de interpolacion\n",
        "plt.plot(xi, pol[len(pol)-1], \"o\", label = 'Interpolacion')                #Grafica de los datos de entrada\n",
        "plt.xlabel(\"x\")\n",
        "plt.ylabel(\"y\")\n",
        "#plt.title(\"\")\n",
        "#plt.grid()\n",
        "plt.legend (loc = 4)\n",
        "plt.show()"
      ],
      "metadata": {
        "colab": {
          "base_uri": "https://localhost:8080/",
          "height": 388
        },
        "id": "tOTwi1dNR8T0",
        "outputId": "c4410cc4-c41b-4375-89d3-a8e73070c4c7"
      },
      "execution_count": null,
      "outputs": [
        {
          "output_type": "display_data",
          "data": {
            "text/plain": [
              "<Figure size 720x432 with 1 Axes>"
            ],
            "image/png": "[encoded data removed]"
          },
          "metadata": {
            "needs_background": "light"
          }
        }
      ]
    },
    {
      "cell_type": "code",
      "source": [
        "pol"
      ],
      "metadata": {
        "colab": {
          "base_uri": "https://localhost:8080/"
        },
        "id": "uk1IxqwrifuQ",
        "outputId": "7ac4bffd-2f57-45d4-9618-809fe1d0e2a0"
      },
      "execution_count": null,
      "outputs": [
        {
          "output_type": "execute_result",
          "data": {
            "text/plain": [
              "[-7.0, 38.0, -15.333333333333329, 8.245614035087723, 4.765609676364829]"
            ]
          },
          "metadata": {},
          "execution_count": 5
        }
      ]
    }
  ]
}