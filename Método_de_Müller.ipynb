{
  "nbformat": 4,
  "nbformat_minor": 0,
  "metadata": {
    "colab": {
      "provenance": [],
      "authorship_tag": "ABX9TyNAqMlbDufSNQxiN1A68WZm",
      "include_colab_link": true
    },
    "kernelspec": {
      "name": "python3",
      "display_name": "Python 3"
    },
    "language_info": {
      "name": "python"
    }
  },
  "cells": [
    {
      "cell_type": "markdown",
      "metadata": {
        "id": "view-in-github",
        "colab_type": "text"
      },
      "source": [
        "<a href=\"https://colab.research.google.com/github/DanielaNavaGarcia/programas-m-todos-/blob/main/M%C3%A9todo_de_M%C3%BCller.ipynb\" target=\"_parent\"><img src=\"https://colab.research.google.com/assets/colab-badge.svg\" alt=\"Open In Colab\"/></a>"
      ]
    },
    {
      "cell_type": "code",
      "execution_count": 1,
      "metadata": {
        "id": "q3-fLWmjl1q8"
      },
      "outputs": [],
      "source": [
        "import math\n",
        "def muller(f, x0, x1, x2, epsilon=1e-10, max_iter=100):\n",
        "    h1 = x1 - x0\n",
        "    h2 = x2 - x1\n",
        "    y1 = (f(x1) - f(x0)) / h1\n",
        "    y2 = (f(x2) - f(x1)) / h2\n",
        "    d = (y2 - y1) / (h2 + h1)\n",
        "    n_iter = 3\n",
        "    x = None\n",
        "    while n_iter <= max_iter:\n",
        "        b = y2 + h2*d\n",
        "        D = math.sqrt(b**2 - 4*f(x2)*d)\n",
        "        if abs(b-D) < abs(b+D):\n",
        "            E = b + D\n",
        "        else:\n",
        "            E = b - D\n",
        "        h = -2*f(x2)/E\n",
        "        p = x2 + h\n",
        "        if abs(h) < epsilon:\n",
        "            x = p\n",
        "            break\n",
        "        x0, x1, x2 = x1, x2, p\n",
        "        h1 = x1 - x0\n",
        "        h2 = x2 - x1\n",
        "        y1 = (f(x1) - f(x0)) / h1\n",
        "        y2 = (f(x2) - f(x1)) / h2\n",
        "        d = (y2 - y1) / (h2 + h1)\n",
        "        n_iter += 1\n",
        "    if x is None:\n",
        "        raise ValueError(\"El método no converge\")\n",
        "    return x\n",
        "\n",
        "    "
      ]
    }
  ]
}